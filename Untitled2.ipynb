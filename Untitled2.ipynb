{
 "cells": [
  {
   "cell_type": "code",
   "execution_count": null,
   "id": "33ed3760",
   "metadata": {},
   "outputs": [],
   "source": [
    "# Define the Vehicle\n",
    "class Vehicle:\n",
    "    def __init__(self, vehicle_type):\n",
    "        self.vehicle_type = vehicle_type\n",
    "\n",
    "# Define the Automobile\n",
    "class Automobile(Vehicle):\n",
    "    def __init__(self, vehicle_type):\n",
    "        super().__init__(vehicle_type)\n",
    "        self.year = \"\"\n",
    "        self.make = \"\"\n",
    "        self.model = \"\"\n",
    "        self.doors = \"\"\n",
    "        self.roof = \"\"\n",
    "\n",
    "    def get_car_details(self):\n",
    "        self.year = input(\"Enter the year: \")\n",
    "        self.make = input(\"Enter the make: \")\n",
    "        self.model = input(\"Enter the model: \")\n",
    "        self.doors = input(\"Enter the number of doors (2 or 4): \")\n",
    "        self.roof = input(\"Enter the type of roof (solid or sun roof): \")\n",
    "\n",
    "    def display_car_details(self):\n",
    "        print(\"\\nCar Details:\")\n",
    "        print(\"  Vehicle type:\", self.vehicle_type)\n",
    "        print(\"  Year:\", self.year)\n",
    "        print(\"  Make:\", self.make)\n",
    "        print(\"  Model:\", self.model)\n",
    "        print(\"  Number of doors:\", self.doors)\n",
    "        print(\"  Type of roof:\", self.roof)\n",
    "\n",
    "# Create an instance of the Automobile class and set the vehicle type to \"car\"\n",
    "car = Automobile(\"car\")\n",
    "\n",
    "# Get user input for the car details\n",
    "car.get_car_details()\n",
    "\n",
    "# Display the car details\n",
    "car.display_car_details()"
   ]
  }
 ],
 "metadata": {
  "kernelspec": {
   "display_name": "Python 3 (ipykernel)",
   "language": "python",
   "name": "python3"
  },
  "language_info": {
   "codemirror_mode": {
    "name": "ipython",
    "version": 3
   },
   "file_extension": ".py",
   "mimetype": "text/x-python",
   "name": "python",
   "nbconvert_exporter": "python",
   "pygments_lexer": "ipython3",
   "version": "3.11.4"
  }
 },
 "nbformat": 4,
 "nbformat_minor": 5
}
