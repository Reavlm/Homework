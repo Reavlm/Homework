{
 "cells": [
  {
   "cell_type": "code",
   "execution_count": null,
   "id": "34d58421",
   "metadata": {},
   "outputs": [],
   "source": [
    "import datetime\n",
    "\n",
    "# Task 13.1: Write the current date as a string to the text file today.txt\n",
    "current_date = datetime.date.today()\n",
    "with open('today.txt', 'w') as file:\n",
    "    file.write(str(current_date))\n",
    "\n",
    "# Task 13.2: Read the text file today.txt into the string today_string\n",
    "with open('today.txt', 'r') as file:\n",
    "    today_string = file.read()\n",
    "\n",
    "# Task 13.3: Parse the date from today_string\n",
    "parsed_date = datetime.datetime.strptime(today_string, '%Y-%m-%d').date()\n",
    "\n",
    "print(\"Current Date (parsed from today.txt):\", parsed_date)"
   ]
  }
 ],
 "metadata": {
  "kernelspec": {
   "display_name": "Python 3 (ipykernel)",
   "language": "python",
   "name": "python3"
  },
  "language_info": {
   "codemirror_mode": {
    "name": "ipython",
    "version": 3
   },
   "file_extension": ".py",
   "mimetype": "text/x-python",
   "name": "python",
   "nbconvert_exporter": "python",
   "pygments_lexer": "ipython3",
   "version": "3.11.4"
  }
 },
 "nbformat": 4,
 "nbformat_minor": 5
}
