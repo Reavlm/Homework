{
 "cells": [
  {
   "cell_type": "code",
   "execution_count": null,
   "id": "d66dfaa0",
   "metadata": {},
   "outputs": [],
   "source": [
    "#11.1 \n",
    "def hours():\n",
    "    print('Open 9-5 daily')\n",
    "\n",
    "import zoo \n",
    "zoo.hours()\n",
    "\n",
    "#11.2\n",
    "import zoo as menagerie \n",
    "menagerie.hours()\n",
    "\n",
    "#16.8\n",
    "import sqlalchemy\n",
    "conn = sqlalchemy.create_engine('sqlitwe://books.db')\n",
    "sql = 'select title from the book order by title asc'\n",
    "rows = conn.execute(sql)\n",
    "for rows in row:\n",
    "    print(row)\n",
    "    "
   ]
  }
 ],
 "metadata": {
  "kernelspec": {
   "display_name": "Python 3 (ipykernel)",
   "language": "python",
   "name": "python3"
  },
  "language_info": {
   "codemirror_mode": {
    "name": "ipython",
    "version": 3
   },
   "file_extension": ".py",
   "mimetype": "text/x-python",
   "name": "python",
   "nbconvert_exporter": "python",
   "pygments_lexer": "ipython3",
   "version": "3.11.4"
  }
 },
 "nbformat": 4,
 "nbformat_minor": 5
}
